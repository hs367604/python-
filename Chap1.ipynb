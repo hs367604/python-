{
 "cells": [
  {
   "cell_type": "markdown",
   "metadata": {},
   "source": [
    "# Chap 1 運算式、變數與資料型別\n",
    "## 註解:#後面記得要空格"
   ]
  },
  {
   "cell_type": "code",
   "execution_count": 3,
   "metadata": {},
   "outputs": [
    {
     "name": "stdout",
     "output_type": "stream",
     "text": [
      "16\n"
     ]
    }
   ],
   "source": [
    "a=7 #單行註解\n",
    "b=9\n",
    "print(a+b)"
   ]
  },
  {
   "cell_type": "code",
   "execution_count": 4,
   "metadata": {},
   "outputs": [
    {
     "name": "stdout",
     "output_type": "stream",
     "text": [
      "16\n"
     ]
    }
   ],
   "source": [
    "'''\n",
    "多行註解\n",
    "多行註解\n",
    "多行註解\n",
    "'''\n",
    "a=7\n",
    "b=9\n",
    "print(a+b)"
   ]
  },
  {
   "cell_type": "markdown",
   "metadata": {},
   "source": [
    "# 運算式"
   ]
  },
  {
   "cell_type": "code",
   "execution_count": 9,
   "metadata": {},
   "outputs": [
    {
     "name": "stdout",
     "output_type": "stream",
     "text": [
      "8888\n",
      "6969\n"
     ]
    }
   ],
   "source": [
    "#變數交換\n",
    "x=6969\n",
    "y=8888\n",
    "\n",
    "z=x\n",
    "x=y\n",
    "y=z\n",
    "print(x)\n",
    "print(y)"
   ]
  },
  {
   "cell_type": "code",
   "execution_count": 19,
   "metadata": {},
   "outputs": [
    {
     "name": "stdout",
     "output_type": "stream",
     "text": [
      "1000\n",
      "10\n"
     ]
    }
   ],
   "source": [
    "x=10\n",
    "y=1000\n",
    "x=x+y\n",
    "y=x-y\n",
    "x=x-y\n",
    "print(x)\n",
    "print(y)"
   ]
  },
  {
   "cell_type": "code",
   "execution_count": 20,
   "metadata": {},
   "outputs": [
    {
     "name": "stdout",
     "output_type": "stream",
     "text": [
      "265\n",
      "168\n"
     ]
    }
   ],
   "source": [
    "#python版本的變數交換\n",
    "x=168\n",
    "y=265\n",
    "x,y = y,x\n",
    "print(x)\n",
    "print(y)"
   ]
  },
  {
   "cell_type": "markdown",
   "metadata": {},
   "source": [
    "## 變數\n",
    "### 變數的平行設定"
   ]
  },
  {
   "cell_type": "code",
   "execution_count": 21,
   "metadata": {},
   "outputs": [
    {
     "name": "stdout",
     "output_type": "stream",
     "text": [
      "3\n",
      "8\n",
      "17\n"
     ]
    }
   ],
   "source": [
    "x, y, z=3, 8, 17\n",
    "print(x)\n",
    "print(y)\n",
    "print(z)"
   ]
  },
  {
   "cell_type": "code",
   "execution_count": 22,
   "metadata": {},
   "outputs": [
    {
     "name": "stdout",
     "output_type": "stream",
     "text": [
      "7 16 1000\n"
     ]
    }
   ],
   "source": [
    "x, y, z = 6, 8, 10\n",
    "x += 1 #x=x+1\n",
    "y *= 2 #y=y*2\n",
    "z **=3 #z^3\n",
    "print(x, y, z)"
   ]
  },
  {
   "cell_type": "markdown",
   "metadata": {},
   "source": [
    "### 變數的應用\n",
    "Q:邊長為9, 10, 11的三角形，其面積大小為何?\n",
    "海龍公式:\n",
    "s=(a+b+c)/2\n",
    "sqrt(s(s-a)(s-b)(s-c))"
   ]
  },
  {
   "cell_type": "code",
   "execution_count": 27,
   "metadata": {},
   "outputs": [
    {
     "name": "stdout",
     "output_type": "stream",
     "text": [
      "42.42640687119285\n"
     ]
    }
   ],
   "source": [
    "import math\n",
    "a,b,c=9,10,11\n",
    "s=(a+b+c)/2\n",
    "d=math.sqrt(s*(s-a)*(s-b)*(s-c))\n",
    "print(d)"
   ]
  },
  {
   "cell_type": "markdown",
   "metadata": {},
   "source": [
    "Q:半徑為20的圓形，其面積大小為何?"
   ]
  },
  {
   "cell_type": "code",
   "execution_count": 26,
   "metadata": {},
   "outputs": [
    {
     "name": "stdout",
     "output_type": "stream",
     "text": [
      "1256.6370614359173\n"
     ]
    }
   ],
   "source": [
    "import math\n",
    "r=20\n",
    "print(r*r*math.pi)"
   ]
  },
  {
   "cell_type": "markdown",
   "metadata": {},
   "source": [
    "##  資料型別\n",
    "python屬於動態類型，使用前不需要需告資料型態"
   ]
  },
  {
   "cell_type": "code",
   "execution_count": 4,
   "metadata": {},
   "outputs": [
    {
     "name": "stdout",
     "output_type": "stream",
     "text": [
      "<class 'int'>\n",
      "<class 'float'>\n",
      "<class 'str'>\n"
     ]
    }
   ],
   "source": [
    "x=180\n",
    "print(type(x))\n",
    "y=5.95\n",
    "print(type(y))\n",
    "z='write'\n",
    "print(type(z))"
   ]
  },
  {
   "cell_type": "markdown",
   "metadata": {},
   "source": [
    "## 算術符號"
   ]
  },
  {
   "cell_type": "code",
   "execution_count": 5,
   "metadata": {},
   "outputs": [
    {
     "name": "stdout",
     "output_type": "stream",
     "text": [
      "3.142857142857143\n",
      "3\n",
      "1\n"
     ]
    }
   ],
   "source": [
    "x=22\n",
    "y=7\n",
    "print(x/y) #除法\n",
    "print(x//y) #求商\n",
    "print(x%y) #求餘數"
   ]
  },
  {
   "cell_type": "markdown",
   "metadata": {},
   "source": [
    "## 注意數字的正確性"
   ]
  },
  {
   "cell_type": "code",
   "execution_count": 8,
   "metadata": {},
   "outputs": [
    {
     "name": "stdout",
     "output_type": "stream",
     "text": [
      "0.0015926269999999576\n"
     ]
    }
   ],
   "source": [
    "x=3.141592627\n",
    "print(x-3.14) #比正確值略小"
   ]
  },
  {
   "cell_type": "markdown",
   "metadata": {},
   "source": [
    "## 關係比較"
   ]
  },
  {
   "cell_type": "code",
   "execution_count": 9,
   "metadata": {},
   "outputs": [
    {
     "name": "stdout",
     "output_type": "stream",
     "text": [
      "True\n",
      "False\n",
      "40\n"
     ]
    }
   ],
   "source": [
    "print(25==25)\n",
    "x, y = 25, 40\n",
    "print(x==y) # == 關係比較\n",
    "x=y         # = 指派值\n",
    "print(x)"
   ]
  },
  {
   "cell_type": "markdown",
   "metadata": {},
   "source": [
    "## 關係運算，以閏年為例"
   ]
  },
  {
   "cell_type": "code",
   "execution_count": 11,
   "metadata": {},
   "outputs": [
    {
     "name": "stdout",
     "output_type": "stream",
     "text": [
      "False\n",
      "True\n",
      "False\n",
      "True\n"
     ]
    }
   ],
   "source": [
    "y=2010\n",
    "print(y%4==0 and y%100!=0 or y%400==0)\n",
    "y=2012\n",
    "print(y%4==0 and y%100!=0 or y%400==0)\n",
    "y=1900\n",
    "print(y%4==0 and y%100!=0 or y%400==0)\n",
    "y=2000\n",
    "print(y%4==0 and y%100!=0 or y%400==0)"
   ]
  },
  {
   "cell_type": "markdown",
   "metadata": {},
   "source": [
    "## 型態轉換"
   ]
  },
  {
   "cell_type": "code",
   "execution_count": 18,
   "metadata": {},
   "outputs": [
    {
     "name": "stdout",
     "output_type": "stream",
     "text": [
      "youtubeyoutubeyoutubeyoutubeyoutubeyoutubeyoutubeyoutubeyoutubeyoutubeyoutubeyoutubeyoutubeyoutubeyoutubeyoutubeyoutubeyoutubeyoutubeyoutube\n",
      "20youtube\n",
      "20 youtube\n"
     ]
    }
   ],
   "source": [
    "#小心不同型態之間所得到的結果想像不同\n",
    "x=\"youtube\"\n",
    "print(20*x)\n",
    "print(\"20\"+x)\n",
    "print(20,x)"
   ]
  },
  {
   "cell_type": "code",
   "execution_count": 21,
   "metadata": {},
   "outputs": [
    {
     "name": "stdout",
     "output_type": "stream",
     "text": [
      "<class 'int'>\n",
      "<class 'float'>\n",
      "1624\n",
      "195\n",
      "2691\n"
     ]
    }
   ],
   "source": [
    "x=99\n",
    "print(type(x))\n",
    "y=float(x)+0.0007 #強制型態轉換\n",
    "print(type(y))\n",
    "print(int(\"1624\"))\n",
    "print(int(195.66))\n",
    "print(int(float(\"2691.55\")))"
   ]
  },
  {
   "cell_type": "code",
   "execution_count": 26,
   "metadata": {},
   "outputs": [
    {
     "name": "stdout",
     "output_type": "stream",
     "text": [
      "The value of x is 154.0 and y is 250000\n",
      "The value of x is 154.0 and y is 250000\n",
      "The value of x is 154.0 and y is 250000\n"
     ]
    }
   ],
   "source": [
    "#字串的型別轉換\n",
    "x=28*5.5\n",
    "y=500*500\n",
    "s=\"The value of x is \" + str(x) + ' and y is ' + str(y)\n",
    "print(s)\n",
    "print(\"The value of x is\", x,\"and y is\",y)\n",
    "print(\"The value of x is {} and y is {}\".format(x,y))"
   ]
  },
  {
   "cell_type": "markdown",
   "metadata": {},
   "source": [
    "## 非內建模組"
   ]
  },
  {
   "cell_type": "code",
   "execution_count": 33,
   "metadata": {},
   "outputs": [
    {
     "name": "stdout",
     "output_type": "stream",
     "text": [
      "3.141592653589793\n",
      "1000.0\n",
      "26.423892221536985\n",
      "20.0\n"
     ]
    }
   ],
   "source": [
    "import math\n",
    "print(math.pi)\n",
    "print(math.pow(10,3))\n",
    "print(8.3*10.58*math.sin(37.0/180*math.pi)/2)\n",
    "print(math.sqrt(400))"
   ]
  },
  {
   "cell_type": "markdown",
   "metadata": {},
   "source": [
    "## 範例:算圓面積"
   ]
  },
  {
   "cell_type": "code",
   "execution_count": 38,
   "metadata": {},
   "outputs": [
    {
     "name": "stdout",
     "output_type": "stream",
     "text": [
      "請輸入圓的半徑:50\n",
      "圓面積為: 7853.981633974483\n"
     ]
    }
   ],
   "source": [
    "import math\n",
    "r=input(\"請輸入圓的半徑:\")\n",
    "area=float(r)*float(r)*math.pi\n",
    "print(\"圓面積為:\",area)"
   ]
  },
  {
   "cell_type": "markdown",
   "metadata": {},
   "source": [
    "## 應用題:算矩形面積"
   ]
  },
  {
   "cell_type": "code",
   "execution_count": 45,
   "metadata": {},
   "outputs": [
    {
     "name": "stdout",
     "output_type": "stream",
     "text": [
      "請輸入矩形的長:10\n",
      "請輸入矩形的寬:20\n",
      "矩形面積為: 200.0\n"
     ]
    }
   ],
   "source": [
    "import math\n",
    "x=input(\"請輸入矩形的長:\")\n",
    "y=input(\"請輸入矩形的寬:\")\n",
    "z=float(x)*float(y)\n",
    "print(\"矩形面積為:\",z)"
   ]
  },
  {
   "cell_type": "code",
   "execution_count": null,
   "metadata": {},
   "outputs": [],
   "source": []
  }
 ],
 "metadata": {
  "kernelspec": {
   "display_name": "Python 3",
   "language": "python",
   "name": "python3"
  },
  "language_info": {
   "codemirror_mode": {
    "name": "ipython",
    "version": 3
   },
   "file_extension": ".py",
   "mimetype": "text/x-python",
   "name": "python",
   "nbconvert_exporter": "python",
   "pygments_lexer": "ipython3",
   "version": "3.8.5"
  }
 },
 "nbformat": 4,
 "nbformat_minor": 4
}
