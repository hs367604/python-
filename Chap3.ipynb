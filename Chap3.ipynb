{
 "cells": [
  {
   "cell_type": "markdown",
   "metadata": {},
   "source": [
    "# Chap 3 Python物件\n",
    "## List(串列) Tuple(元組) Dictionary(字典) Sets(集合)"
   ]
  },
  {
   "cell_type": "markdown",
   "metadata": {},
   "source": [
    "## List[串列]\n",
    "使用中括號[]包含元素"
   ]
  },
  {
   "cell_type": "code",
   "execution_count": 2,
   "metadata": {},
   "outputs": [
    {
     "name": "stdout",
     "output_type": "stream",
     "text": [
      "2682\n"
     ]
    }
   ],
   "source": [
    "expenses = [1562, 264, 850, 6]\n",
    "print(sum(expenses))"
   ]
  },
  {
   "cell_type": "code",
   "execution_count": 3,
   "metadata": {},
   "outputs": [
    {
     "name": "stdout",
     "output_type": "stream",
     "text": [
      "1562\n",
      "264\n",
      "6\n",
      "850\n"
     ]
    }
   ],
   "source": [
    "expenses = [1562, 264, 850, 6]\n",
    "print(expenses[0]) #索引從0開始\n",
    "print(expenses[1])\n",
    "print(expenses[-1]) #倒數第一個\n",
    "print(expenses[-2])"
   ]
  },
  {
   "cell_type": "code",
   "execution_count": 4,
   "metadata": {},
   "outputs": [
    {
     "name": "stdout",
     "output_type": "stream",
     "text": [
      "python\n"
     ]
    }
   ],
   "source": [
    "my_list0 = [] #空串列\n",
    "my_list1 = list()\n",
    "my_list2 = ['python','javascript','C#']\n",
    "print(my_list2[0])"
   ]
  },
  {
   "cell_type": "markdown",
   "metadata": {},
   "source": [
    "## list的長度"
   ]
  },
  {
   "cell_type": "code",
   "execution_count": 17,
   "metadata": {},
   "outputs": [
    {
     "name": "stdout",
     "output_type": "stream",
     "text": [
      "3\n",
      "6\n"
     ]
    }
   ],
   "source": [
    "my_list2 = ['python','javascript','C#']\n",
    "print(len(my_list2))\n",
    "print(len(my_list2[0]))"
   ]
  },
  {
   "cell_type": "markdown",
   "metadata": {},
   "source": [
    "## 附加"
   ]
  },
  {
   "cell_type": "code",
   "execution_count": 18,
   "metadata": {},
   "outputs": [
    {
     "name": "stdout",
     "output_type": "stream",
     "text": [
      "['python', 'javascript', 'C#', 'java']\n"
     ]
    }
   ],
   "source": [
    "my_list2 = ['python','javascript','C#']\n",
    "my_list2.append('java')\n",
    "print(my_list2)"
   ]
  },
  {
   "cell_type": "code",
   "execution_count": 23,
   "metadata": {},
   "outputs": [
    {
     "name": "stdout",
     "output_type": "stream",
     "text": [
      "['python', 'java', 'javascript', 'C#']\n"
     ]
    }
   ],
   "source": [
    "my_list2 = ['python','javascript','C#']\n",
    "my_list2.insert(1,'java')\n",
    "print(my_list2)"
   ]
  },
  {
   "cell_type": "markdown",
   "metadata": {},
   "source": [
    "## 刪除"
   ]
  },
  {
   "cell_type": "code",
   "execution_count": 24,
   "metadata": {},
   "outputs": [
    {
     "name": "stdout",
     "output_type": "stream",
     "text": [
      "['javascript', 'C#']\n",
      "['javascript']\n",
      "[]\n"
     ]
    }
   ],
   "source": [
    "my_list2 = ['python','javascript','C#']\n",
    "my_list2.remove('python') #移除指定位置\n",
    "print(my_list2)\n",
    "del my_list2[-1] #刪除指定位置的元素\n",
    "print(my_list2)\n",
    "my_list2.clear() #清除全部\n",
    "print(my_list2)"
   ]
  },
  {
   "cell_type": "code",
   "execution_count": 27,
   "metadata": {},
   "outputs": [
    {
     "name": "stdout",
     "output_type": "stream",
     "text": [
      "[10, 20, 10, 20, 10, 20]\n"
     ]
    }
   ],
   "source": [
    "a=[10,20]\n",
    "print(a*3)"
   ]
  },
  {
   "cell_type": "markdown",
   "metadata": {},
   "source": [
    "## list取值"
   ]
  },
  {
   "cell_type": "code",
   "execution_count": 32,
   "metadata": {},
   "outputs": [
    {
     "name": "stdout",
     "output_type": "stream",
     "text": [
      "[1, 2, 3]\n",
      "[1, 3, 5, 7, 9]\n",
      "[1, 2, 3, 4, 5, 6, 7, 8, 9]\n",
      "[1, 2, 3, 4, 5, 6, 7, 8, 9]\n"
     ]
    }
   ],
   "source": [
    "a=[1,2,3,4,5,6,7,8,9]\n",
    "b=a[0:3] #範圍取值，0,1,2不包含3\n",
    "print(b)\n",
    "c=a[0:9:2] #間隔2取值\n",
    "print(c)\n",
    "d=a[0:]\n",
    "print(d)\n",
    "e=a[:9]\n",
    "print(e)"
   ]
  },
  {
   "cell_type": "code",
   "execution_count": 33,
   "metadata": {},
   "outputs": [
    {
     "name": "stdout",
     "output_type": "stream",
     "text": [
      "[1, 2, 3, 4, 5, 6, 7]\n",
      "1\n",
      "1\n",
      "0\n",
      "4\n",
      "[7, 6, 5, 4, 3, 2, 1]\n",
      "[1, 2, 3, 4, 5, 6, 7]\n"
     ]
    }
   ],
   "source": [
    "a=[1,2,3,4,5,6,7,8,9]\n",
    "del a[7:9] #刪除某範圍值,7,8\n",
    "print(a)\n",
    "print(min(a)) #最小值\n",
    "print(min(a)) #最大值\n",
    "print(a.index(1)) #找出1所在的第一個索引值\n",
    "b=[1,0,0,1,1,1]\n",
    "print(b.count(1)) #1出現的次數\n",
    "a.reverse() #串列反轉\n",
    "print(a)\n",
    "a.sort() #串列由小到大排序,a的值會被改變\n",
    "print(a)"
   ]
  },
  {
   "cell_type": "code",
   "execution_count": 35,
   "metadata": {},
   "outputs": [
    {
     "name": "stdout",
     "output_type": "stream",
     "text": [
      "[150, 268, 946, 4284] [150, 946, 4284, 268]\n"
     ]
    }
   ],
   "source": [
    "expenses = [150,946,4284,268]\n",
    "s=sorted(expenses) #expenses的值不會變\n",
    "print(s, expenses)"
   ]
  },
  {
   "cell_type": "markdown",
   "metadata": {},
   "source": [
    "## Tuple(元祖)\n",
    "tuple(元祖)可以視為不可改變的串列(list)，tuple跟list很像，但是不能新增或刪除或者更新tuple的元素。\n",
    "tuple比起list的好處:\n",
    "* 佔用空間少\n",
    "* 可以當作dictionary(字典)的Key\n",
    "* 具名tuple當作物件替代\n",
    "* 當作函數的引述"
   ]
  },
  {
   "cell_type": "code",
   "execution_count": 10,
   "metadata": {},
   "outputs": [
    {
     "name": "stdout",
     "output_type": "stream",
     "text": [
      "('java', 'c#', 'python')\n",
      "('java', 'C#', 'python')\n",
      "python\n"
     ]
    }
   ],
   "source": [
    "a_list=['java','c#','python']\n",
    "a_tuple=tuple(a_list)\n",
    "b_tuple=('java','C#','python')\n",
    "print(a_tuple)\n",
    "print(b_tuple)\n",
    "print(a_tuple[2])"
   ]
  },
  {
   "cell_type": "markdown",
   "metadata": {},
   "source": [
    "## Dictionary-dict(字典)\n",
    "dict為應有鍵值(key)的舉例\n",
    "    \n",
    "    *表示方法為{}"
   ]
  },
  {
   "cell_type": "code",
   "execution_count": 35,
   "metadata": {},
   "outputs": [
    {
     "name": "stdout",
     "output_type": "stream",
     "text": [
      "python\n",
      "3.7\n",
      "{0: 'python', '1': '3.7'}\n",
      "python\n"
     ]
    }
   ],
   "source": [
    "\n",
    "languages={'namw':'python','version':'3.7'}\n",
    "a_list=['python','3.7']\n",
    "a_dict={0:'python','1':'3.7'}\n",
    "print(a_list[0])\n",
    "print(a_list[1])\n",
    "print(a_dict)\n",
    "print(a_dict[0]) #dict就是索引值可以改變的list"
   ]
  },
  {
   "cell_type": "code",
   "execution_count": 36,
   "metadata": {},
   "outputs": [
    {
     "name": "stdout",
     "output_type": "stream",
     "text": [
      "python\n",
      "{'namw': 'python', 'version': '3.7'}\n",
      "dict_keys(['namw', 'version'])\n",
      "dict_values(['python', '3.7'])\n",
      "dict_items([('namw', 'python'), ('version', '3.7')])\n",
      "False\n"
     ]
    }
   ],
   "source": [
    "languages={'namw':'python','version':'3.7'}\n",
    "print(languages['namw'])\n",
    "print(languages)\n",
    "print(languages.keys())\n",
    "print(languages.values())\n",
    "print(languages.items())\n",
    "print('name' in languages)"
   ]
  },
  {
   "cell_type": "code",
   "execution_count": 27,
   "metadata": {},
   "outputs": [
    {
     "name": "stdout",
     "output_type": "stream",
     "text": [
      "擲出骰子點數:\n",
      "三點\n"
     ]
    }
   ],
   "source": [
    "import random\n",
    "dice=random.randint(1,6)\n",
    "print(\"擲出骰子點數:\")\n",
    "if dice==1:\n",
    "    print('一點')\n",
    "elif dice==2:\n",
    "    print('二點')\n",
    "elif dice==3:\n",
    "    print('三點')\n",
    "elif dice==4:\n",
    "    print('四點')\n",
    "elif dice==5:\n",
    "    print('五點')\n",
    "else:\n",
    "    print('六點')    "
   ]
  },
  {
   "cell_type": "code",
   "execution_count": 31,
   "metadata": {},
   "outputs": [
    {
     "name": "stdout",
     "output_type": "stream",
     "text": [
      "擲出骰子點數: 一點\n"
     ]
    }
   ],
   "source": [
    "import random\n",
    "dice_points={1:'一點',2:'二點',3:'三點',4:'四點',5:'五點',6:'六點'}\n",
    "dice=random.randint(1,6)\n",
    "print(\"擲出骰子點數:\",dice_points[dice])"
   ]
  },
  {
   "cell_type": "code",
   "execution_count": null,
   "metadata": {},
   "outputs": [],
   "source": []
  },
  {
   "cell_type": "code",
   "execution_count": null,
   "metadata": {},
   "outputs": [],
   "source": []
  }
 ],
 "metadata": {
  "kernelspec": {
   "display_name": "Python 3",
   "language": "python",
   "name": "python3"
  },
  "language_info": {
   "codemirror_mode": {
    "name": "ipython",
    "version": 3
   },
   "file_extension": ".py",
   "mimetype": "text/x-python",
   "name": "python",
   "nbconvert_exporter": "python",
   "pygments_lexer": "ipython3",
   "version": "3.8.5"
  }
 },
 "nbformat": 4,
 "nbformat_minor": 4
}
