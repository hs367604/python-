{
 "cells": [
  {
   "cell_type": "markdown",
   "metadata": {},
   "source": [
    "## Chap4 numpy套件(numeric python)\n",
    "\n",
    "為什麼需要numpy?\n",
    " * numpy由c撰寫，速度快python 10~1000倍以上\n",
    " * numpy儲存結果較正確，python數字儲存不正確\n",
    " * numpy節省記憶儲存空間\n",
    " * numpy的向量(矩陣計算)速度快\n",
    " * numpy的取值方便"
   ]
  },
  {
   "cell_type": "code",
   "execution_count": 1,
   "metadata": {},
   "outputs": [
    {
     "name": "stdout",
     "output_type": "stream",
     "text": [
      "[41, 35, 86, 95, 22, 41, 35, 86, 95, 22, 41, 35, 86, 95, 22, 41, 35, 86, 95, 22, 41, 35, 86, 95, 22]\n"
     ]
    }
   ],
   "source": [
    "a_list=[41,35,86,95,22]\n",
    "print(a_list*5)"
   ]
  },
  {
   "cell_type": "code",
   "execution_count": 2,
   "metadata": {},
   "outputs": [
    {
     "name": "stdout",
     "output_type": "stream",
     "text": [
      "[112 312 696 368 464]\n"
     ]
    }
   ],
   "source": [
    "#numpy套件的ndarray型態,提供eLemunt-wise的操作\n",
    "import numpy as np\n",
    "a=np.array([14,39,87,46,58])\n",
    "print(a*8)"
   ]
  },
  {
   "cell_type": "code",
   "execution_count": 8,
   "metadata": {},
   "outputs": [
    {
     "name": "stdout",
     "output_type": "stream",
     "text": [
      "<class 'numpy.ndarray'>\n",
      "(5,)\n",
      "int32\n",
      "1\n"
     ]
    }
   ],
   "source": [
    "a=np.array([6,7,8,9,10])\n",
    "print(type(a))\n",
    "print(a.shape) #ndarray的形狀\n",
    "print(a.dtype) #資料的型態\n",
    "print(a.ndim) #維度"
   ]
  },
  {
   "cell_type": "code",
   "execution_count": 15,
   "metadata": {},
   "outputs": [
    {
     "name": "stdout",
     "output_type": "stream",
     "text": [
      "[0. 0. 0. 0. 0.]\n",
      "[[1.22055255e-311 1.22055255e-311 1.22055255e-311 1.22055255e-311]\n",
      " [1.22055362e-311 1.22055362e-311 1.22055362e-311 1.22055255e-311]\n",
      " [1.22055255e-311 1.22055255e-311 1.22055255e-311 1.22055362e-311]]\n",
      "[0 1 2 3 4 5 6 7 8 9]\n"
     ]
    }
   ],
   "source": [
    "import numpy as np\n",
    "z=np.zeros(5)\n",
    "print(z)\n",
    "print(np.empty((3,4))) #產生3X4的二維陣列\n",
    "print(np.arange(10)) #產生0~9的陣列"
   ]
  },
  {
   "cell_type": "markdown",
   "metadata": {},
   "source": [
    "## ndarray的進階操作"
   ]
  },
  {
   "cell_type": "code",
   "execution_count": 27,
   "metadata": {},
   "outputs": [
    {
     "name": "stdout",
     "output_type": "stream",
     "text": [
      "[0 1 2 3 4 5 6 7]\n",
      "5\n",
      "[3 4 5 6]\n"
     ]
    }
   ],
   "source": [
    "my_array=np.arange(8)\n",
    "print(my_array)\n",
    "print(my_array[5])\n",
    "print(my_array[3:7])"
   ]
  },
  {
   "cell_type": "markdown",
   "metadata": {},
   "source": [
    "## 二維資料取值"
   ]
  },
  {
   "cell_type": "code",
   "execution_count": 30,
   "metadata": {},
   "outputs": [
    {
     "name": "stdout",
     "output_type": "stream",
     "text": [
      "[[0 1 2 3 4]\n",
      " [5 6 7 8 9]]\n",
      "[5 6 7 8 9]\n",
      "[1 6]\n",
      "6\n"
     ]
    }
   ],
   "source": [
    "my_2d_array=np.array([np.arange(0,5),np.arange(5,10)])\n",
    "print(my_2d_array)\n",
    "print(my_2d_array[1,:])\n",
    "print(my_2d_array[:,1])\n",
    "print(my_2d_array[1,1])"
   ]
  },
  {
   "cell_type": "code",
   "execution_count": 42,
   "metadata": {},
   "outputs": [
    {
     "name": "stdout",
     "output_type": "stream",
     "text": [
      "[0 1 2 3 4 5 6 7 8 9]\n",
      "(10,)\n",
      "[[0 1]\n",
      " [2 3]\n",
      " [4 5]\n",
      " [6 7]\n",
      " [8 9]]\n",
      "[[ 0  1  2  3  4]\n",
      " [ 5  6  7  8  9]\n",
      " [10 11 12 13 14]\n",
      " [15 16 17 18 19]\n",
      " [20 21 22 23 24]\n",
      " [25 26 27 28 29]\n",
      " [30 31 32 33 34]\n",
      " [35 36 37 38 39]\n",
      " [40 41 42 43 44]\n",
      " [45 46 47 48 49]]\n"
     ]
    }
   ],
   "source": [
    "my_array=np.arange(0,10)\n",
    "print(my_array)\n",
    "print(my_array.shape)\n",
    "my_2d_array=my_array.reshape(5,2)\n",
    "print(my_2d_array)\n",
    "print(np.arange(0,50).reshape(10,5))"
   ]
  },
  {
   "cell_type": "markdown",
   "metadata": {},
   "source": [
    "## numpy的空值"
   ]
  },
  {
   "cell_type": "code",
   "execution_count": 44,
   "metadata": {},
   "outputs": [
    {
     "name": "stdout",
     "output_type": "stream",
     "text": [
      "[16. 35. 95. 87. nan]\n"
     ]
    }
   ],
   "source": [
    "b=np.array([16, 35, 95, 87, np.nan]) #nan=空值\n",
    "print(b)"
   ]
  },
  {
   "cell_type": "code",
   "execution_count": null,
   "metadata": {},
   "outputs": [],
   "source": []
  }
 ],
 "metadata": {
  "kernelspec": {
   "display_name": "Python 3",
   "language": "python",
   "name": "python3"
  },
  "language_info": {
   "codemirror_mode": {
    "name": "ipython",
    "version": 3
   },
   "file_extension": ".py",
   "mimetype": "text/x-python",
   "name": "python",
   "nbconvert_exporter": "python",
   "pygments_lexer": "ipython3",
   "version": "3.8.5"
  }
 },
 "nbformat": 4,
 "nbformat_minor": 4
}
